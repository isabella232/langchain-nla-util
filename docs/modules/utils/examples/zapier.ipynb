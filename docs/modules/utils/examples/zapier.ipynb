{
 "cells": [
  {
   "cell_type": "markdown",
   "id": "16763ed3",
   "metadata": {},
   "source": [
    "## Zapier Natural Language Actions API\n",
    "\\\n",
    "Full docs here: https://nla.zapier.com/api/v1/dynamic/docs\n",
    "\n",
    "**Zapier Natural Language Actions** gives you access to the 5k+ apps, 20k+ actions on Zapier's platform through a natural language API interface.\n",
    "\n",
    "NLA supports apps like Gmail, Salesforce, Trello, Slack, Asana, HubSpot, Google Sheets, Microsoft Teams, and thousands more apps: https://zapier.com/apps\n",
    "\n",
    "Zapier NLA handles ALL the underlying API auth and translation from natural language --> underlying API call --> return simplified output for LLMs. The key idea is you, or your users, expose a set of actions via an oauth-like setup window, which you can then query and execute via a REST API.\n",
    "\n",
    "NLA offers both API Key and OAuth for signing NLA API requests.\n",
    "\n",
    "1. Server-side (API Key): for quickly getting started, testing, and production scenarios where LangChain will only use actions exposed in the developer's Zapier account (and will use the developer's connected accounts on Zapier.com)\n",
    "\n",
    "2. User-facing (Oauth): for production scenarios where you are deploying an end-user facing application and LangChain needs access to end-user's exposed actions and connected accounts on Zapier.com\n",
    "\n",
    "This quick start will focus on the server-side use case for brevity. Review [full docs](https://nla.zapier.com/api/v1/dynamic/docs) or reach out to nla@zapier.com for user-facing oauth developer support.\n",
    "\n",
    "Typically you'd use SequentialChain, here's a basic example:\n",
    "\n",
    "    1. Use NLA to find an email in Gmail\n",
    "    2. Use LLMChain to generate a draft reply to (1)\n",
    "    3. Use NLA to send the draft reply (2) to someone in Slack via direct mesage\n",
    "    \n",
    "In code, below:"
   ]
  },
  {
   "cell_type": "code",
   "execution_count": 2,
   "id": "a363309c",
   "metadata": {},
   "outputs": [],
   "source": [
    "%load_ext autoreload\n",
    "%autoreload 2"
   ]
  },
  {
   "cell_type": "code",
   "execution_count": 3,
   "id": "5cf33377",
   "metadata": {},
   "outputs": [],
   "source": [
    "import os\n",
    "\n",
    "# get from https://platform.openai.com/\n",
    "os.environ[\"OPENAI_API_KEY\"] = \"\"\n",
    "\n",
    "# get from https://nla.zapier.com/zapier/provider/debug (under User Information, after logging in): \n",
    "os.environ[\"ZAPIER_NLA_API_KEY\"] = \"\""
   ]
  },
  {
   "cell_type": "code",
   "execution_count": 13,
   "id": "10a46e7e",
   "metadata": {},
   "outputs": [],
   "source": [
    "from langchain.llms import OpenAI\n",
    "from langchain.chains import LLMChain, TransformChain, SimpleSequentialChain\n",
    "from langchain.prompts import PromptTemplate\n",
    "from langchain.tools.zapier import ZapierNLAListActions, ZapierNLARunAction"
   ]
  },
  {
   "cell_type": "code",
   "execution_count": 69,
   "id": "b9358048",
   "metadata": {},
   "outputs": [],
   "source": [
    "## step 0. expose gmail 'find email' and slack 'send channel message' actions\n",
    "\n",
    "# first go here, log in, expose (enable) the two actions: https://nla.zapier.com/zapier/start -- for this example, can leave all fields \"Have AI guess\"\n",
    "# in an oauth scenario, you'd get your own <provider> id (instead of 'zapier') which you route your users through first\n",
    "\n",
    "actions = ZapierNLAListActions().run(\"\")"
   ]
  },
  {
   "cell_type": "code",
   "execution_count": 70,
   "id": "4e80f461",
   "metadata": {},
   "outputs": [],
   "source": [
    "## step 1. gmail find email\n",
    "\n",
    "def nla_gmail(inputs):\n",
    "    action = next((a for a in actions if a[\"description\"].startswith(\"Gmail: Find Email\")), None)\n",
    "    return {\"email_data\": ZapierNLARunAction(action_id=action[\"id\"]).run(inputs[\"instructions\"])}\n",
    "gmail_chain = TransformChain(input_variables=[\"instructions\"], output_variables=[\"email_data\"], transform=nla_gmail)"
   ]
  },
  {
   "cell_type": "code",
   "execution_count": 71,
   "id": "46893233",
   "metadata": {},
   "outputs": [],
   "source": [
    "## step 2. generate draft reply\n",
    "\n",
    "template = \"\"\"You are an assisstant who drafts replies to an incoming email. Output draft reply in plain text (not JSON).\n",
    "\n",
    "Incoming email:\n",
    "{email_data}\n",
    "\n",
    "Draft email reply:\"\"\"\n",
    "\n",
    "prompt_template = PromptTemplate(input_variables=[\"email_data\"], template=template)\n",
    "reply_chain = LLMChain(llm=OpenAI(temperature=.7), prompt=prompt_template)"
   ]
  },
  {
   "cell_type": "code",
   "execution_count": 74,
   "id": "cd85c4f8",
   "metadata": {},
   "outputs": [],
   "source": [
    "## step 3. send draft reply via a slack direct message\n",
    "\n",
    "def nla_slack(inputs):\n",
    "    action = next((a for a in actions if a[\"description\"].startswith(\"Slack: Send Direct Message\")), None)\n",
    "    instructions = f'Send this to me in Slack: {inputs[\"draft_reply\"]}'\n",
    "    return {\"slack_data\": ZapierNLARunAction(action_id=action[\"id\"]).run(instructions)}\n",
    "slack_chain = TransformChain(input_variables=[\"draft_reply\"], output_variables=[\"slack_data\"], transform=nla_slack)"
   ]
  },
  {
   "cell_type": "code",
   "execution_count": 75,
   "id": "4829cab4",
   "metadata": {},
   "outputs": [
    {
     "name": "stdout",
     "output_type": "stream",
     "text": [
      "\n",
      "\n",
      "\u001b[1m> Entering new SimpleSequentialChain chain...\u001b[0m\n",
      "\u001b[36;1m\u001b[1;3m{\"from__name\": \"Mike Knoop\", \"from__email\": \"mike@zapier.com\", \"body_plain\": \"Mike Knoop has declined the invitation to join Sanjay and Shira to learn more about Fullstory. Join Zoom Meeting: https://zapier.zoom.us/j/93939403700. Phone: (US) +1 669-444-9171. Joining instructions: https://applications.zoom.us/addon/invitation/detail?meetingUuid=Gmrjd%2FeGTsuA2Y2Flp%2Fu9w%3D%3D&signature=87c53419211ed3af2d132f2c16a099010c091c57f9cb4a8c45ffd450d5e6d400\", \"date\": \"Wed, 08 Mar 2023 19:37:08 +0000\", \"reply_to__email\": \"mike@zapier.com\", \"to__emails\": \"shira.bauman@zapier.com\", \"attachment_count\": \"2\", \"raw__historyId\": \"30458299\"}\u001b[0m\n",
      "\u001b[33;1m\u001b[1;3m\n",
      "\n",
      "Dear Mike Knoop,\n",
      "\n",
      "Thank you for letting us know that you are unable to join Sanjay and Shira to learn more about Fullstory. We understand and appreciate your response.\n",
      "\n",
      "Sincerely,\n",
      "[Your Name]\u001b[0m\n",
      "\u001b[38;5;200m\u001b[1;3m{\"message__text\": \"Dear Mike Knoop, \\n\\nThank you for letting us know that you are unable to join Sanjay and Shira to learn more about Fullstory. We understand and appreciate your response. \\n\\nSincerely, \\n[Your Name]\", \"message__permalink\": \"https://zapier.slack.com/archives/D014R78FC65/p1678317776181099\", \"message__bot_id\": \"B011TNDA1V5\", \"message__team\": \"T024VA8T9\", \"message__bot_profile__name\": \"Zapier\", \"message__bot_profile__deleted\": \"false\", \"channel\": \"D014R78FC65\", \"ts_time\": \"2023-03-08T23:22:56Z\", \"message__bot_profile__app_id\": \"A024R9PQM\", \"message__bot_profile__icons__image_48\": \"https://avatars.slack-edge.com/2022-08-02/3888649620612_f864dc1bb794cf7d82b0_48.png\", \"message__blocks[]block_id\": \"Wnc\"}\u001b[0m\n",
      "\n",
      "\u001b[1m> Finished chain.\u001b[0m\n"
     ]
    },
    {
     "data": {
      "text/plain": [
       "'{\"message__text\": \"Dear Mike Knoop, \\\\n\\\\nThank you for letting us know that you are unable to join Sanjay and Shira to learn more about Fullstory. We understand and appreciate your response. \\\\n\\\\nSincerely, \\\\n[Your Name]\", \"message__permalink\": \"https://zapier.slack.com/archives/D014R78FC65/p1678317776181099\", \"message__bot_id\": \"B011TNDA1V5\", \"message__team\": \"T024VA8T9\", \"message__bot_profile__name\": \"Zapier\", \"message__bot_profile__deleted\": \"false\", \"channel\": \"D014R78FC65\", \"ts_time\": \"2023-03-08T23:22:56Z\", \"message__bot_profile__app_id\": \"A024R9PQM\", \"message__bot_profile__icons__image_48\": \"https://avatars.slack-edge.com/2022-08-02/3888649620612_f864dc1bb794cf7d82b0_48.png\", \"message__blocks[]block_id\": \"Wnc\"}'"
      ]
     },
     "execution_count": 75,
     "metadata": {},
     "output_type": "execute_result"
    }
   ],
   "source": [
    "## finally, execute\n",
    "\n",
    "overall_chain = SimpleSequentialChain(chains=[gmail_chain, reply_chain, slack_chain], verbose=True)\n",
    "overall_chain.run(\"Grab the latest email from Mike Knoop\")"
   ]
  }
 ],
 "metadata": {
  "kernelspec": {
   "display_name": "Python 3 (ipykernel)",
   "language": "python",
   "name": "python3"
  },
  "language_info": {
   "codemirror_mode": {
    "name": "ipython",
    "version": 3
   },
   "file_extension": ".py",
   "mimetype": "text/x-python",
   "name": "python",
   "nbconvert_exporter": "python",
   "pygments_lexer": "ipython3",
   "version": "3.11.1"
  }
 },
 "nbformat": 4,
 "nbformat_minor": 5
}
